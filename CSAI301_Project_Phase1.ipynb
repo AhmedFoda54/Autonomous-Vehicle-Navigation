{
 "cells": [
  {
   "cell_type": "code",
   "execution_count": 5,
   "metadata": {},
   "outputs": [],
   "source": [
    "import numpy as np\n",
    "import matplotlib.pyplot as plt"
   ]
  },
  {
   "cell_type": "code",
   "execution_count": 17,
   "metadata": {},
   "outputs": [
    {
     "data": {
      "text/plain": [
       "array([[0., 0., 0., 0., 0., 0., 0., 0., 0., 0.],\n",
       "       [0., 0., 0., 0., 0., 0., 0., 0., 0., 0.],\n",
       "       [0., 0., 0., 0., 0., 0., 0., 0., 0., 0.],\n",
       "       [0., 0., 0., 0., 0., 0., 0., 0., 0., 0.],\n",
       "       [0., 0., 0., 0., 0., 0., 0., 0., 0., 0.],\n",
       "       [0., 0., 0., 0., 0., 0., 0., 0., 0., 0.],\n",
       "       [0., 0., 0., 0., 0., 0., 0., 0., 0., 0.],\n",
       "       [0., 0., 0., 0., 0., 0., 0., 0., 0., 0.],\n",
       "       [0., 0., 0., 0., 0., 0., 0., 0., 0., 0.],\n",
       "       [0., 0., 0., 0., 0., 0., 0., 0., 0., 0.]])"
      ]
     },
     "execution_count": 17,
     "metadata": {},
     "output_type": "execute_result"
    }
   ],
   "source": [
    "# define a grid which will be assigned with values\n",
    "grid = np.zeros((10,10))\n",
    "grid"
   ]
  },
  {
   "cell_type": "code",
   "execution_count": 56,
   "metadata": {},
   "outputs": [
    {
     "data": {
      "text/plain": [
       "array([[1., 1., 1., 1., 1., 1., 1., 1., 1., 1.],\n",
       "       [0., 0., 0., 0., 0., 0., 0., 0., 0., 1.],\n",
       "       [0., 0., 0., 0., 0., 0., 0., 0., 0., 1.],\n",
       "       [0., 0., 0., 0., 0., 0., 0., 0., 0., 1.],\n",
       "       [0., 0., 0., 0., 0., 0., 0., 0., 0., 1.],\n",
       "       [1., 1., 1., 1., 1., 1., 1., 1., 1., 1.],\n",
       "       [0., 0., 1., 1., 1., 1., 0., 0., 0., 0.],\n",
       "       [0., 0., 0., 0., 1., 0., 0., 0., 0., 0.],\n",
       "       [0., 0., 0., 0., 1., 0., 0., 0., 0., 0.],\n",
       "       [1., 1., 1., 1., 1., 1., 1., 1., 1., 1.]])"
      ]
     },
     "execution_count": 56,
     "metadata": {},
     "output_type": "execute_result"
    }
   ],
   "source": [
    "#  make a street in the grid by putting obstacles\n",
    "start = (9, 0)\n",
    "goal = (0, 9)\n",
    "Moves = [(0, 1),(0, -1),(1, 0),(-1, 0)]\n",
    "\n",
    "# streets\n",
    "# 0 is the obstacles, 1 is the streets\n",
    "grid[0,:] = 1  # row 10\n",
    "grid[1:5,9] = 1  # Vertical line from 1 to row 6\n",
    "grid[5,:] = 1   # Horizontal path in row 5\n",
    "grid[6, 2:6] = 1 # Horizontal path in row 6\n",
    "grid[7:9,4] = 1 # Vertical from 6 to row 10\n",
    "grid[9,:] = 1 # row 10\n",
    "\n",
    "\n",
    "grid\n"
   ]
  },
  {
   "cell_type": "code",
   "execution_count": 57,
   "metadata": {},
   "outputs": [
    {
     "data": {
      "image/png": "[encoded data removed]",
      "text/plain": [
       "<Figure size 600x600 with 1 Axes>"
      ]
     },
     "metadata": {},
     "output_type": "display_data"
    }
   ],
   "source": [
    "plt.figure(figsize=(6, 6))\n",
    "plt.imshow(grid, cmap=\"gray_r\")  \n",
    "plt.scatter(start[1], start[0], color=\"green\", label=\"Start\")  \n",
    "plt.scatter(goal[1], goal[0], color=\"red\", label=\"Goal\")  \n",
    "plt.legend()\n",
    "plt.title(\"Map\")\n",
    "plt.show()"
   ]
  },
  {
   "cell_type": "code",
   "execution_count": 46,
   "metadata": {},
   "outputs": [
    {
     "name": "stdout",
     "output_type": "stream",
     "text": [
      "{(0, 0): 9, (0, 1): 8, (0, 2): 7, (0, 3): 6, (0, 4): 5, (0, 5): 4, (0, 6): 3, (0, 7): 2, (0, 8): 1, (0, 9): 0, (1, 0): 10, (1, 1): 9, (1, 2): 8, (1, 3): 7, (1, 4): 6, (1, 5): 5, (1, 6): 4, (1, 7): 3, (1, 8): 2, (1, 9): 1, (2, 0): 11, (2, 1): 10, (2, 2): 9, (2, 3): 8, (2, 4): 7, (2, 5): 6, (2, 6): 5, (2, 7): 4, (2, 8): 3, (2, 9): 2, (3, 0): 12, (3, 1): 11, (3, 2): 10, (3, 3): 9, (3, 4): 8, (3, 5): 7, (3, 6): 6, (3, 7): 5, (3, 8): 4, (3, 9): 3, (4, 0): 13, (4, 1): 12, (4, 2): 11, (4, 3): 10, (4, 4): 9, (4, 5): 8, (4, 6): 7, (4, 7): 6, (4, 8): 5, (4, 9): 4, (5, 0): 14, (5, 1): 13, (5, 2): 12, (5, 3): 11, (5, 4): 10, (5, 5): 9, (5, 6): 8, (5, 7): 7, (5, 8): 6, (5, 9): 5, (6, 0): 15, (6, 1): 14, (6, 2): 13, (6, 3): 12, (6, 4): 11, (6, 5): 10, (6, 6): 9, (6, 7): 8, (6, 8): 7, (6, 9): 6, (7, 0): 16, (7, 1): 15, (7, 2): 14, (7, 3): 13, (7, 4): 12, (7, 5): 11, (7, 6): 10, (7, 7): 9, (7, 8): 8, (7, 9): 7, (8, 0): 17, (8, 1): 16, (8, 2): 15, (8, 3): 14, (8, 4): 13, (8, 5): 12, (8, 6): 11, (8, 7): 10, (8, 8): 9, (8, 9): 8, (9, 0): 18, (9, 1): 17, (9, 2): 16, (9, 3): 15, (9, 4): 14, (9, 5): 13, (9, 6): 12, (9, 7): 11, (9, 8): 10, (9, 9): 9}\n"
     ]
    }
   ],
   "source": [
    "# make huristic value for each point from goal, i will use manhattan distance as we took \n",
    "def hurestic(x,y,g):\n",
    "    return abs(x-g[0])+abs(y-g[1])\n",
    "points_values = {}\n",
    "\n",
    "for x in range(grid.shape[0]):\n",
    "    for y in range(grid.shape[1]):\n",
    "        points_values[(x, y)] = hurestic(x,y,goal)\n",
    "print(points_values)"
   ]
  },
  {
   "cell_type": "code",
   "execution_count": null,
   "metadata": {},
   "outputs": [],
   "source": [
    "# use bfs on the grid to find the path, use huristic values as cost\n",
    "def bfs(grid, start, goal):\n",
    "    queue = [start]\n",
    "    visited = set()\n",
    "    parent = {}\n",
    "    parent[start] = None\n",
    "    while queue:\n",
    "        current = queue.pop(0)\n",
    "        if current == goal:\n",
    "            break\n",
    "        visited.add(current)\n",
    "        for i, j in Moves:\n",
    "            new_x, new_y = current[0] + i, current[1] + j\n",
    "            if 0 <= new_x < grid.shape[0] and 0 <= new_y < grid.shape[1] and grid[new_x, new_y] == 1 and (new_x, new_y) not in visited:\n",
    "                queue.append((new_x, new_y))\n",
    "                visited.add((new_x, new_y))\n",
    "                parent[(new_x, new_y)] = current\n",
    "    path = []\n",
    "    while current:\n",
    "        path.append(current)\n",
    "        current = parent[current]\n",
    "    return path[::-1]\n",
    "\n",
    "# test the function\n",
    "path = bfs(grid,start,goal)"
   ]
  },
  {
   "cell_type": "code",
   "execution_count": 64,
   "metadata": {},
   "outputs": [
    {
     "data": {
      "image/png": "[encoded data removed]",
      "text/plain": [
       "<Figure size 600x600 with 1 Axes>"
      ]
     },
     "metadata": {},
     "output_type": "display_data"
    }
   ],
   "source": [
    "plt.figure(figsize=(6, 6))\n",
    "plt.imshow(grid, cmap=\"gray_r\")  \n",
    "plt.scatter(start[1], start[0], color=\"green\", label=\"Start\")  \n",
    "plt.scatter(goal[1], goal[0], color=\"red\", label=\"Goal\")  \n",
    "path = np.array(path)\n",
    "for i in range(1,path.shape[0]-1):\n",
    "    plt.scatter(path[i, 1], path[i, 0], color=\"blue\")\n",
    "plt.legend()\n",
    "plt.title(\"Map\")\n",
    "plt.show()"
   ]
  },
  {
   "cell_type": "code",
   "execution_count": null,
   "metadata": {},
   "outputs": [],
   "source": []
  }
 ],
 "metadata": {
  "kernelspec": {
   "display_name": "Python 3",
   "language": "python",
   "name": "python3"
  },
  "language_info": {
   "codemirror_mode": {
    "name": "ipython",
    "version": 3
   },
   "file_extension": ".py",
   "mimetype": "text/x-python",
   "name": "python",
   "nbconvert_exporter": "python",
   "pygments_lexer": "ipython3",
   "version": "3.12.3"
  }
 },
 "nbformat": 4,
 "nbformat_minor": 2
}
